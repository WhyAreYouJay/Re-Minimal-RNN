{
  "cells": [
    {
      "cell_type": "code",
      "execution_count": 2,
      "metadata": {
        "id": "duUbqfKEordx",
        "colab": {
          "base_uri": "https://localhost:8080/"
        },
        "outputId": "c19d844d-c3c3-4bff-95db-42649966daa1"
      },
      "outputs": [
        {
          "output_type": "stream",
          "name": "stdout",
          "text": [
            "fatal: destination path 'd4rl_benchmark_eval' already exists and is not an empty directory.\n"
          ]
        }
      ],
      "source": [
        "\n",
        "!git clone https://github.com/WhyAreYouJay/d4rl_benchmark_eval.git\n"
      ]
    },
    {
      "cell_type": "code",
      "execution_count": 3,
      "metadata": {
        "id": "bX2qkP9lSYmM",
        "colab": {
          "base_uri": "https://localhost:8080/"
        },
        "outputId": "5cafc362-95b4-4e4a-f63b-cc95b3c821f8"
      },
      "outputs": [
        {
          "output_type": "stream",
          "name": "stdout",
          "text": [
            "Collecting gymnasium[mujoco]\n",
            "  Downloading gymnasium-1.0.0-py3-none-any.whl.metadata (9.5 kB)\n",
            "Requirement already satisfied: numpy>=1.21.0 in /usr/local/lib/python3.10/dist-packages (from gymnasium[mujoco]) (1.26.4)\n",
            "Requirement already satisfied: cloudpickle>=1.2.0 in /usr/local/lib/python3.10/dist-packages (from gymnasium[mujoco]) (3.1.0)\n",
            "Requirement already satisfied: typing-extensions>=4.3.0 in /usr/local/lib/python3.10/dist-packages (from gymnasium[mujoco]) (4.12.2)\n",
            "Collecting farama-notifications>=0.0.1 (from gymnasium[mujoco])\n",
            "  Downloading Farama_Notifications-0.0.4-py3-none-any.whl.metadata (558 bytes)\n",
            "Collecting mujoco>=2.1.5 (from gymnasium[mujoco])\n",
            "  Downloading mujoco-3.2.6-cp310-cp310-manylinux_2_17_x86_64.manylinux2014_x86_64.whl.metadata (44 kB)\n",
            "\u001b[2K     \u001b[90m━━━━━━━━━━━━━━━━━━━━━━━━━━━━━━━━━━━━━━━━\u001b[0m \u001b[32m44.4/44.4 kB\u001b[0m \u001b[31m2.5 MB/s\u001b[0m eta \u001b[36m0:00:00\u001b[0m\n",
            "\u001b[?25hRequirement already satisfied: imageio>=2.14.1 in /usr/local/lib/python3.10/dist-packages (from gymnasium[mujoco]) (2.36.1)\n",
            "Requirement already satisfied: pillow>=8.3.2 in /usr/local/lib/python3.10/dist-packages (from imageio>=2.14.1->gymnasium[mujoco]) (11.0.0)\n",
            "Requirement already satisfied: absl-py in /usr/local/lib/python3.10/dist-packages (from mujoco>=2.1.5->gymnasium[mujoco]) (1.4.0)\n",
            "Requirement already satisfied: etils[epath] in /usr/local/lib/python3.10/dist-packages (from mujoco>=2.1.5->gymnasium[mujoco]) (1.11.0)\n",
            "Collecting glfw (from mujoco>=2.1.5->gymnasium[mujoco])\n",
            "  Downloading glfw-2.8.0-py2.py27.py3.py30.py31.py32.py33.py34.py35.py36.py37.py38.p39.p310.p311.p312.p313-none-manylinux_2_28_x86_64.whl.metadata (5.4 kB)\n",
            "Requirement already satisfied: pyopengl in /usr/local/lib/python3.10/dist-packages (from mujoco>=2.1.5->gymnasium[mujoco]) (3.1.7)\n",
            "Requirement already satisfied: fsspec in /usr/local/lib/python3.10/dist-packages (from etils[epath]->mujoco>=2.1.5->gymnasium[mujoco]) (2024.10.0)\n",
            "Requirement already satisfied: importlib_resources in /usr/local/lib/python3.10/dist-packages (from etils[epath]->mujoco>=2.1.5->gymnasium[mujoco]) (6.4.5)\n",
            "Requirement already satisfied: zipp in /usr/local/lib/python3.10/dist-packages (from etils[epath]->mujoco>=2.1.5->gymnasium[mujoco]) (3.21.0)\n",
            "Downloading Farama_Notifications-0.0.4-py3-none-any.whl (2.5 kB)\n",
            "Downloading mujoco-3.2.6-cp310-cp310-manylinux_2_17_x86_64.manylinux2014_x86_64.whl (6.4 MB)\n",
            "\u001b[2K   \u001b[90m━━━━━━━━━━━━━━━━━━━━━━━━━━━━━━━━━━━━━━━━\u001b[0m \u001b[32m6.4/6.4 MB\u001b[0m \u001b[31m50.1 MB/s\u001b[0m eta \u001b[36m0:00:00\u001b[0m\n",
            "\u001b[?25hDownloading gymnasium-1.0.0-py3-none-any.whl (958 kB)\n",
            "\u001b[2K   \u001b[90m━━━━━━━━━━━━━━━━━━━━━━━━━━━━━━━━━━━━━━━━\u001b[0m \u001b[32m958.1/958.1 kB\u001b[0m \u001b[31m26.3 MB/s\u001b[0m eta \u001b[36m0:00:00\u001b[0m\n",
            "\u001b[?25hDownloading glfw-2.8.0-py2.py27.py3.py30.py31.py32.py33.py34.py35.py36.py37.py38.p39.p310.p311.p312.p313-none-manylinux_2_28_x86_64.whl (243 kB)\n",
            "\u001b[2K   \u001b[90m━━━━━━━━━━━━━━━━━━━━━━━━━━━━━━━━━━━━━━━━\u001b[0m \u001b[32m243.4/243.4 kB\u001b[0m \u001b[31m12.2 MB/s\u001b[0m eta \u001b[36m0:00:00\u001b[0m\n",
            "\u001b[?25hInstalling collected packages: glfw, farama-notifications, gymnasium, mujoco\n",
            "Successfully installed farama-notifications-0.0.4 glfw-2.8.0 gymnasium-1.0.0 mujoco-3.2.6\n"
          ]
        }
      ],
      "source": [
        "!pip install gymnasium[mujoco]"
      ]
    },
    {
      "cell_type": "code",
      "execution_count": 4,
      "metadata": {
        "id": "oaDO_cLwH4iW",
        "colab": {
          "base_uri": "https://localhost:8080/"
        },
        "outputId": "c515f75b-6d54-419a-f14a-e46e02e66556"
      },
      "outputs": [
        {
          "output_type": "stream",
          "name": "stdout",
          "text": [
            "Collecting triton\n",
            "  Downloading triton-3.1.0-cp310-cp310-manylinux_2_17_x86_64.manylinux2014_x86_64.whl.metadata (1.3 kB)\n",
            "Requirement already satisfied: filelock in /usr/local/lib/python3.10/dist-packages (from triton) (3.16.1)\n",
            "Downloading triton-3.1.0-cp310-cp310-manylinux_2_17_x86_64.manylinux2014_x86_64.whl (209.5 MB)\n",
            "\u001b[2K   \u001b[90m━━━━━━━━━━━━━━━━━━━━━━━━━━━━━━━━━━━━━━━━\u001b[0m \u001b[32m209.5/209.5 MB\u001b[0m \u001b[31m5.3 MB/s\u001b[0m eta \u001b[36m0:00:00\u001b[0m\n",
            "\u001b[?25hInstalling collected packages: triton\n",
            "Successfully installed triton-3.1.0\n"
          ]
        }
      ],
      "source": [
        "!pip install triton"
      ]
    },
    {
      "cell_type": "code",
      "execution_count": 5,
      "metadata": {
        "id": "oHnrojJ0Sb2F",
        "colab": {
          "base_uri": "https://localhost:8080/"
        },
        "outputId": "c4800e23-bd79-40b8-9f30-baf9458f35ac"
      },
      "outputs": [
        {
          "output_type": "stream",
          "name": "stdout",
          "text": [
            "Requirement already satisfied: wandb in /usr/local/lib/python3.10/dist-packages (0.19.1)\n",
            "Requirement already satisfied: click!=8.0.0,>=7.1 in /usr/local/lib/python3.10/dist-packages (from wandb) (8.1.7)\n",
            "Requirement already satisfied: docker-pycreds>=0.4.0 in /usr/local/lib/python3.10/dist-packages (from wandb) (0.4.0)\n",
            "Requirement already satisfied: gitpython!=3.1.29,>=1.0.0 in /usr/local/lib/python3.10/dist-packages (from wandb) (3.1.43)\n",
            "Requirement already satisfied: platformdirs in /usr/local/lib/python3.10/dist-packages (from wandb) (4.3.6)\n",
            "Requirement already satisfied: protobuf!=4.21.0,!=5.28.0,<6,>=3.19.0 in /usr/local/lib/python3.10/dist-packages (from wandb) (4.25.5)\n",
            "Requirement already satisfied: psutil>=5.0.0 in /usr/local/lib/python3.10/dist-packages (from wandb) (5.9.5)\n",
            "Requirement already satisfied: pydantic<3,>=2.6 in /usr/local/lib/python3.10/dist-packages (from wandb) (2.10.3)\n",
            "Requirement already satisfied: pyyaml in /usr/local/lib/python3.10/dist-packages (from wandb) (6.0.2)\n",
            "Requirement already satisfied: requests<3,>=2.0.0 in /usr/local/lib/python3.10/dist-packages (from wandb) (2.32.3)\n",
            "Requirement already satisfied: sentry-sdk>=2.0.0 in /usr/local/lib/python3.10/dist-packages (from wandb) (2.19.2)\n",
            "Requirement already satisfied: setproctitle in /usr/local/lib/python3.10/dist-packages (from wandb) (1.3.4)\n",
            "Requirement already satisfied: setuptools in /usr/local/lib/python3.10/dist-packages (from wandb) (75.1.0)\n",
            "Requirement already satisfied: typing-extensions<5,>=4.4 in /usr/local/lib/python3.10/dist-packages (from wandb) (4.12.2)\n",
            "Requirement already satisfied: six>=1.4.0 in /usr/local/lib/python3.10/dist-packages (from docker-pycreds>=0.4.0->wandb) (1.17.0)\n",
            "Requirement already satisfied: gitdb<5,>=4.0.1 in /usr/local/lib/python3.10/dist-packages (from gitpython!=3.1.29,>=1.0.0->wandb) (4.0.11)\n",
            "Requirement already satisfied: annotated-types>=0.6.0 in /usr/local/lib/python3.10/dist-packages (from pydantic<3,>=2.6->wandb) (0.7.0)\n",
            "Requirement already satisfied: pydantic-core==2.27.1 in /usr/local/lib/python3.10/dist-packages (from pydantic<3,>=2.6->wandb) (2.27.1)\n",
            "Requirement already satisfied: charset-normalizer<4,>=2 in /usr/local/lib/python3.10/dist-packages (from requests<3,>=2.0.0->wandb) (3.4.0)\n",
            "Requirement already satisfied: idna<4,>=2.5 in /usr/local/lib/python3.10/dist-packages (from requests<3,>=2.0.0->wandb) (3.10)\n",
            "Requirement already satisfied: urllib3<3,>=1.21.1 in /usr/local/lib/python3.10/dist-packages (from requests<3,>=2.0.0->wandb) (2.2.3)\n",
            "Requirement already satisfied: certifi>=2017.4.17 in /usr/local/lib/python3.10/dist-packages (from requests<3,>=2.0.0->wandb) (2024.12.14)\n",
            "Requirement already satisfied: smmap<6,>=3.0.1 in /usr/local/lib/python3.10/dist-packages (from gitdb<5,>=4.0.1->gitpython!=3.1.29,>=1.0.0->wandb) (5.0.1)\n"
          ]
        }
      ],
      "source": [
        "!pip install wandb"
      ]
    },
    {
      "cell_type": "markdown",
      "source": [
        "PUT YOUR API KEY AFTER LOGIN"
      ],
      "metadata": {
        "id": "84MexPX4oxdo"
      }
    },
    {
      "cell_type": "code",
      "execution_count": 14,
      "metadata": {
        "id": "tGCn9-O7Ws1K",
        "colab": {
          "base_uri": "https://localhost:8080/"
        },
        "outputId": "1066be15-01f6-4c74-b558-9d903f802bbf"
      },
      "outputs": [
        {
          "output_type": "stream",
          "name": "stdout",
          "text": [
            "\u001b[34m\u001b[1mwandb\u001b[0m: Appending key for api.wandb.ai to your netrc file: /root/.netrc\n"
          ]
        }
      ],
      "source": [
        "!wandb login 1e44bd6405911552e18312c824367f858755a47d\n",
        "\n"
      ]
    },
    {
      "cell_type": "markdown",
      "source": [
        "CHECK IF NVIDIA GPU WORKING\n"
      ],
      "metadata": {
        "id": "RH1rX9_4oqVh"
      }
    },
    {
      "cell_type": "code",
      "execution_count": 7,
      "metadata": {
        "id": "I699NUMcYSsN",
        "colab": {
          "base_uri": "https://localhost:8080/"
        },
        "outputId": "7b888de4-4265-4d57-b2b1-eb2113d62ef1"
      },
      "outputs": [
        {
          "output_type": "stream",
          "name": "stdout",
          "text": [
            "Sat Dec 21 14:36:10 2024       \n",
            "+---------------------------------------------------------------------------------------+\n",
            "| NVIDIA-SMI 535.104.05             Driver Version: 535.104.05   CUDA Version: 12.2     |\n",
            "|-----------------------------------------+----------------------+----------------------+\n",
            "| GPU  Name                 Persistence-M | Bus-Id        Disp.A | Volatile Uncorr. ECC |\n",
            "| Fan  Temp   Perf          Pwr:Usage/Cap |         Memory-Usage | GPU-Util  Compute M. |\n",
            "|                                         |                      |               MIG M. |\n",
            "|=========================================+======================+======================|\n",
            "|   0  Tesla T4                       Off | 00000000:00:04.0 Off |                    0 |\n",
            "| N/A   43C    P8               9W /  70W |      0MiB / 15360MiB |      0%      Default |\n",
            "|                                         |                      |                  N/A |\n",
            "+-----------------------------------------+----------------------+----------------------+\n",
            "                                                                                         \n",
            "+---------------------------------------------------------------------------------------+\n",
            "| Processes:                                                                            |\n",
            "|  GPU   GI   CI        PID   Type   Process name                            GPU Memory |\n",
            "|        ID   ID                                                             Usage      |\n",
            "|=======================================================================================|\n",
            "|  No running processes found                                                           |\n",
            "+---------------------------------------------------------------------------------------+\n"
          ]
        }
      ],
      "source": [
        "!nvidia-smi"
      ]
    },
    {
      "cell_type": "markdown",
      "source": [
        "PULL TO GET NEW VERSION"
      ],
      "metadata": {
        "id": "AY0cUffaq5LF"
      }
    },
    {
      "cell_type": "code",
      "source": [
        "!git -C d4rl_benchmark_eval pull"
      ],
      "metadata": {
        "colab": {
          "base_uri": "https://localhost:8080/"
        },
        "id": "e8rxr1wIqrd1",
        "outputId": "b6197c0d-1ad7-401b-84b6-ebc95e216b30"
      },
      "execution_count": 27,
      "outputs": [
        {
          "output_type": "stream",
          "name": "stdout",
          "text": [
            "remote: Enumerating objects: 8, done.\u001b[K\n",
            "remote: Counting objects:  12% (1/8)\u001b[K\rremote: Counting objects:  25% (2/8)\u001b[K\rremote: Counting objects:  37% (3/8)\u001b[K\rremote: Counting objects:  50% (4/8)\u001b[K\rremote: Counting objects:  62% (5/8)\u001b[K\rremote: Counting objects:  75% (6/8)\u001b[K\rremote: Counting objects:  87% (7/8)\u001b[K\rremote: Counting objects: 100% (8/8)\u001b[K\rremote: Counting objects: 100% (8/8), done.\u001b[K\n",
            "remote: Compressing objects:  16% (1/6)\u001b[K\rremote: Compressing objects:  33% (2/6)\u001b[K\rremote: Compressing objects:  50% (3/6)\u001b[K\rremote: Compressing objects:  66% (4/6)\u001b[K\rremote: Compressing objects:  83% (5/6)\u001b[K\rremote: Compressing objects: 100% (6/6)\u001b[K\rremote: Compressing objects: 100% (6/6), done.\u001b[K\n",
            "remote: Total 6 (delta 4), reused 0 (delta 0), pack-reused 0 (from 0)\u001b[K\n",
            "Unpacking objects:  16% (1/6)\rUnpacking objects:  33% (2/6)\rUnpacking objects:  50% (3/6)\rUnpacking objects:  66% (4/6)\rUnpacking objects:  83% (5/6)\rUnpacking objects: 100% (6/6)\rUnpacking objects: 100% (6/6), 1.84 KiB | 943.00 KiB/s, done.\n",
            "From https://github.com/WhyAreYouJay/d4rl_benchmark_eval\n",
            "   500600a..8c4eb05  main       -> origin/main\n",
            "Updating 500600a..8c4eb05\n",
            "Fast-forward\n",
            " train_benchmark.py | 3 \u001b[32m++\u001b[m\u001b[31m-\u001b[m\n",
            " 1 file changed, 2 insertions(+), 1 deletion(-)\n"
          ]
        }
      ]
    },
    {
      "cell_type": "markdown",
      "source": [
        "RUN CODE"
      ],
      "metadata": {
        "id": "-QRVKz9TovIG"
      }
    },
    {
      "cell_type": "code",
      "execution_count": 28,
      "metadata": {
        "id": "QH5a1yGyPzet",
        "colab": {
          "base_uri": "https://localhost:8080/"
        },
        "outputId": "b452d57f-bafd-48c0-a196-ff339218c1f8"
      },
      "outputs": [
        {
          "output_type": "stream",
          "name": "stdout",
          "text": [
            "\u001b[34m\u001b[1mwandb\u001b[0m: Using wandb-core as the SDK backend.  Please refer to https://wandb.me/wandb-core for more information.\n",
            "\u001b[34m\u001b[1mwandb\u001b[0m: Currently logged in as: \u001b[33mrasmus-alex-jensen\u001b[0m (\u001b[33mmingru-reinformer\u001b[0m). Use \u001b[1m`wandb login --relogin`\u001b[0m to force relogin\n",
            "\u001b[34m\u001b[1mwandb\u001b[0m: Tracking run with wandb version 0.19.1\n",
            "\u001b[34m\u001b[1mwandb\u001b[0m: Run data is saved locally in \u001b[35m\u001b[1m/content/wandb/run-20241221_150317-o1vtr2kv\u001b[0m\n",
            "\u001b[34m\u001b[1mwandb\u001b[0m: Run \u001b[1m`wandb offline`\u001b[0m to turn off syncing.\n",
            "\u001b[34m\u001b[1mwandb\u001b[0m: Syncing run \u001b[33mhopper-medium\u001b[0m\n",
            "\u001b[34m\u001b[1mwandb\u001b[0m: ⭐️ View project at \u001b[34m\u001b[4mhttps://wandb.ai/mingru-reinformer/Reinformer\u001b[0m\n",
            "\u001b[34m\u001b[1mwandb\u001b[0m: 🚀 View run at \u001b[34m\u001b[4mhttps://wandb.ai/mingru-reinformer/Reinformer/runs/o1vtr2kv\u001b[0m\n",
            "Iteration 0, time: 0.0003330707550048828\n",
            "Iteration 50, time: 3.883936882019043\n",
            "Iteration 100, time: 5.493499994277954\n",
            "Iteration 150, time: 6.935270547866821\n",
            "Iteration 200, time: 8.33597183227539\n",
            "Iteration 250, time: 9.996687412261963\n",
            "Iteration 300, time: 11.959251403808594\n",
            "Iteration 350, time: 13.459723472595215\n",
            "Iteration 400, time: 14.836745977401733\n",
            "Iteration 450, time: 16.242042303085327\n",
            "Iteration 500, time: 17.594850301742554\n",
            "Iteration 550, time: 18.959933757781982\n",
            "Iteration 600, time: 20.36147451400757\n",
            "Iteration 650, time: 21.74401044845581\n",
            "Iteration 700, time: 23.48611569404602\n",
            "Iteration 750, time: 25.590158224105835\n",
            "Iteration 800, time: 27.024495363235474\n",
            "Iteration 850, time: 28.5031955242157\n",
            "Iteration 900, time: 29.911704063415527\n",
            "Iteration 950, time: 31.318986177444458\n",
            "Iteration 1000, time: 32.71530079841614\n",
            "Iteration 1050, time: 34.049673557281494\n",
            "Iteration 1100, time: 35.39962339401245\n",
            "Iteration 1150, time: 37.22899889945984\n",
            "Iteration 1200, time: 39.11016058921814\n",
            "Iteration 1250, time: 40.49727463722229\n",
            "Iteration 1300, time: 41.861305475234985\n",
            "Iteration 1350, time: 43.27799201011658\n",
            "Iteration 1400, time: 44.69201636314392\n",
            "Iteration 1450, time: 46.121917963027954\n",
            "Iteration 1500, time: 47.533021450042725\n",
            "Iteration 1550, time: 49.063759326934814\n",
            "Iteration 1600, time: 50.944313526153564\n",
            "Iteration 1650, time: 52.722243547439575\n",
            "Iteration 1700, time: 54.12179350852966\n",
            "Iteration 1750, time: 55.55940556526184\n",
            "Iteration 1800, time: 57.00359392166138\n",
            "Iteration 1850, time: 58.49596047401428\n",
            "Iteration 1900, time: 59.87893891334534\n",
            "Iteration 1950, time: 61.282188415527344\n",
            "Iteration 2000, time: 62.93000674247742\n",
            "Iteration 2050, time: 64.95556545257568\n",
            "Iteration 2100, time: 66.51579976081848\n",
            "Iteration 2150, time: 67.9724850654602\n",
            "Iteration 2200, time: 69.37291669845581\n",
            "Iteration 2250, time: 70.77214980125427\n",
            "Iteration 2300, time: 72.17592597007751\n",
            "Iteration 2350, time: 73.55283761024475\n",
            "Iteration 2400, time: 74.97278308868408\n",
            "Iteration 2450, time: 76.71124410629272\n",
            "Iteration 2500, time: 78.69398069381714\n",
            "Iteration 2550, time: 80.0702805519104\n",
            "Iteration 2600, time: 81.5140073299408\n",
            "Iteration 2650, time: 82.90571999549866\n",
            "Iteration 2700, time: 84.31400537490845\n",
            "Iteration 2750, time: 85.73529410362244\n",
            "Iteration 2800, time: 87.14725971221924\n",
            "Iteration 2850, time: 88.59721517562866\n",
            "Iteration 2900, time: 90.51602530479431\n",
            "Iteration 2950, time: 92.36121940612793\n",
            "Iteration 3000, time: 93.74034309387207\n",
            "Iteration 3050, time: 95.13225150108337\n",
            "Iteration 3100, time: 96.52410817146301\n",
            "Iteration 3150, time: 97.94757866859436\n",
            "Iteration 3200, time: 99.32853269577026\n",
            "Iteration 3250, time: 100.69096636772156\n",
            "Iteration 3300, time: 102.17709851264954\n",
            "Iteration 3350, time: 104.04059505462646\n",
            "Iteration 3400, time: 105.758305311203\n",
            "Iteration 3450, time: 107.12760496139526\n",
            "Iteration 3500, time: 108.51136040687561\n",
            "Iteration 3550, time: 109.89167404174805\n",
            "Iteration 3600, time: 111.28433918952942\n",
            "Iteration 3650, time: 112.66971063613892\n",
            "Iteration 3700, time: 114.04546093940735\n",
            "Iteration 3750, time: 115.6546995639801\n",
            "Iteration 3800, time: 117.56941962242126\n",
            "Iteration 3850, time: 119.27966856956482\n",
            "Iteration 3900, time: 120.66422176361084\n",
            "Iteration 3950, time: 122.05439305305481\n",
            "Iteration 4000, time: 123.44075083732605\n",
            "Iteration 4050, time: 124.86212587356567\n",
            "Iteration 4100, time: 126.27242684364319\n",
            "Iteration 4150, time: 127.68419909477234\n",
            "Iteration 4200, time: 129.3459017276764\n",
            "Iteration 4250, time: 131.36084389686584\n",
            "Iteration 4300, time: 132.871732711792\n",
            "Iteration 4350, time: 134.22350478172302\n",
            "Iteration 4400, time: 135.86811518669128\n",
            "Iteration 4450, time: 137.84840440750122\n",
            "Iteration 4500, time: 139.44579792022705\n",
            "Iteration 4550, time: 140.84122967720032\n",
            "Iteration 4600, time: 142.54470777511597\n",
            "Iteration 4650, time: 144.546790599823\n",
            "Iteration 4700, time: 146.24234747886658\n",
            "Iteration 4750, time: 147.66030287742615\n",
            "Iteration 4800, time: 149.08289670944214\n",
            "Iteration 4850, time: 150.5121603012085\n",
            "Iteration 4900, time: 151.9122805595398\n",
            "Iteration 4950, time: 153.29506134986877\n",
            "================================================================================\n",
            "Epoch 1\n",
            "time/training: 154.6829128265381\n",
            "time/total: 154.68301582336426\n",
            "training/train_loss_mean: 3.9766266652046514\n",
            "training/train_loss_std: 0.12786808600356936\n",
            "Episode 0 returns : 336.2119578526169\n",
            "Episode 1 returns : 332.04530658441104\n",
            "Episode 2 returns : 323.267311327988\n",
            "Episode 3 returns : 327.4089172661006\n",
            "Episode 4 returns : 345.0526701179905\n",
            "Episode 5 returns : 331.70883212871814\n",
            "Episode 6 returns : 331.86876336648874\n",
            "Episode 7 returns : 327.6801275841167\n",
            "Episode 8 returns : 323.42866434051734\n",
            "Episode 9 returns : 327.80932686941827\n",
            "============================================================\n",
            "Normalized Score for hopper_medium-v2 : 10.782384284556144\n",
            "============================================================\n",
            "Iteration 0, time: 0.00021219253540039062\n",
            "Iteration 50, time: 1.4342498779296875\n",
            "Iteration 100, time: 2.8000075817108154\n",
            "Iteration 150, time: 4.190389156341553\n",
            "Iteration 200, time: 6.0050928592681885\n",
            "Iteration 250, time: 7.908550024032593\n",
            "Iteration 300, time: 9.350053071975708\n",
            "Iteration 350, time: 10.78779125213623\n",
            "Iteration 400, time: 12.2623929977417\n",
            "Iteration 450, time: 13.691075801849365\n",
            "Iteration 500, time: 15.119205951690674\n",
            "Iteration 550, time: 16.50559973716736\n",
            "Iteration 600, time: 18.081525802612305\n",
            "Iteration 650, time: 19.98745346069336\n",
            "Iteration 700, time: 21.70671033859253\n",
            "Iteration 750, time: 23.138900756835938\n",
            "Iteration 800, time: 24.56801462173462\n",
            "Iteration 850, time: 25.983988523483276\n",
            "Iteration 900, time: 27.371750593185425\n",
            "Iteration 950, time: 28.7772159576416\n",
            "Iteration 1000, time: 30.1995587348938\n",
            "Iteration 1050, time: 31.93567419052124\n",
            "Iteration 1100, time: 33.975547552108765\n",
            "Iteration 1150, time: 35.46564984321594\n",
            "Iteration 1200, time: 36.84712219238281\n",
            "Iteration 1250, time: 38.27467226982117\n",
            "Iteration 1300, time: 39.66388535499573\n",
            "Iteration 1350, time: 41.11896061897278\n",
            "Iteration 1400, time: 42.53518748283386\n",
            "Iteration 1450, time: 43.924437046051025\n",
            "Iteration 1500, time: 45.81534242630005\n",
            "Iteration 1550, time: 47.81462478637695\n",
            "Iteration 1600, time: 49.198683977127075\n",
            "Iteration 1650, time: 50.56813907623291\n",
            "Iteration 1700, time: 51.96520376205444\n",
            "Iteration 1750, time: 53.312896966934204\n",
            "Iteration 1800, time: 54.71132802963257\n",
            "Iteration 1850, time: 56.07149577140808\n",
            "Traceback (most recent call last):\n",
            "Error in sys.excepthook:\n",
            "Traceback (most recent call last):\n",
            "  File \"/usr/local/lib/python3.10/dist-packages/wandb/sdk/lib/redirect.py\", line 648, in write\n",
            "    cb(data)\n",
            "  File \"/usr/local/lib/python3.10/dist-packages/wandb/sdk/wandb_run.py\", line 2299, in <lambda>\n",
            "    lambda data: self._console_raw_callback(\"stderr\", data),\n",
            "  File \"/usr/local/lib/python3.10/dist-packages/wandb/sdk/wandb_run.py\", line 392, in wrapper_fn\n",
            "    return func(self, *args, **kwargs)\n",
            "  File \"/usr/local/lib/python3.10/dist-packages/wandb/sdk/wandb_run.py\", line 1431, in _console_raw_callback\n",
            "    self._backend.interface.publish_output_raw(name, data)\n",
            "  File \"/usr/local/lib/python3.10/dist-packages/wandb/sdk/interface/interface.py\", line 748, in publish_output_raw\n",
            "    self._publish_output_raw(o)\n",
            "  File \"/usr/local/lib/python3.10/dist-packages/wandb/sdk/interface/interface_shared.py\", line 79, in _publish_output_raw\n",
            "    self._publish(rec)\n",
            "  File \"/usr/local/lib/python3.10/dist-packages/wandb/sdk/interface/interface_sock.py\", line 51, in _publish\n",
            "    self._sock_client.send_record_publish(record)\n",
            "  File \"/usr/local/lib/python3.10/dist-packages/wandb/sdk/lib/sock_client.py\", line 222, in send_record_publish\n",
            "    self.send_server_request(server_req)\n",
            "  File \"/usr/local/lib/python3.10/dist-packages/wandb/sdk/lib/sock_client.py\", line 154, in send_server_request\n",
            "    self._send_message(msg)\n",
            "  File \"/usr/local/lib/python3.10/dist-packages/wandb/sdk/lib/sock_client.py\", line 151, in _send_message\n",
            "    self._sendall_with_error_handle(header + data)\n",
            "KeyboardInterrupt\n",
            "\n",
            "Original exception was:\n",
            "Traceback (most recent call last):\n",
            "  File \"/content/d4rl_benchmark_eval/train_benchmark.py\", line 198, in <module>\n",
            "    outputs = trainer.train_iteration_benchmark(num_steps=args['num_steps_per_iter'], iter_num=it + 1,\n",
            "  File \"/content/d4rl_benchmark_eval/deep_learning_rl_sm/trainer/trainer.py\", line 347, in train_iteration_benchmark\n",
            "    train_loss = self.train_step_benchmark()\n",
            "  File \"/content/d4rl_benchmark_eval/deep_learning_rl_sm/trainer/trainer.py\", line 471, in train_step_benchmark\n",
            "    self.optimizer.step()\n",
            "  File \"/usr/local/lib/python3.10/dist-packages/torch/optim/lr_scheduler.py\", line 137, in wrapper\n",
            "    return func.__get__(opt, opt.__class__)(*args, **kwargs)\n",
            "  File \"/usr/local/lib/python3.10/dist-packages/torch/optim/optimizer.py\", line 487, in wrapper\n",
            "    out = func(*args, **kwargs)\n",
            "  File \"/usr/local/lib/python3.10/dist-packages/torch/utils/_contextlib.py\", line 116, in decorate_context\n",
            "    return func(*args, **kwargs)\n",
            "  File \"/content/d4rl_benchmark_eval/deep_learning_rl_sm/neuralnets/lamb.py\", line 184, in step\n",
            "    torch.where(g_norm > 0, w_norm / g_norm, one_tensor),\n",
            "KeyboardInterrupt\n",
            "\u001b[1;34mwandb\u001b[0m: 🚀 View run \u001b[33mhopper-medium\u001b[0m at: \u001b[34mhttps://wandb.ai/mingru-reinformer/Reinformer/runs/o1vtr2kv\u001b[0m\n",
            "\u001b[1;34mwandb\u001b[0m: Find logs at: \u001b[1;35mwandb/run-20241221_150317-o1vtr2kv/logs\u001b[0m\n"
          ]
        }
      ],
      "source": [
        "!python d4rl_benchmark_eval/train_benchmark.py --env \"hopper\""
      ]
    }
  ],
  "metadata": {
    "accelerator": "GPU",
    "colab": {
      "gpuType": "T4",
      "provenance": []
    },
    "kernelspec": {
      "display_name": "Python 3",
      "name": "python3"
    },
    "language_info": {
      "name": "python"
    }
  },
  "nbformat": 4,
  "nbformat_minor": 0
}