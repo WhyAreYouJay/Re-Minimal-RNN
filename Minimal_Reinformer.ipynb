{
  "cells": [
    {
      "cell_type": "code",
      "execution_count": 1,
      "metadata": {
        "colab": {
          "base_uri": "https://localhost:8080/"
        },
        "id": "duUbqfKEordx",
        "outputId": "ce127256-6dbd-4499-d37e-4db35914a803"
      },
      "outputs": [
        {
          "output_type": "stream",
          "name": "stdout",
          "text": [
            "Cloning into 'd4rl_benchmark_eval'...\n",
            "remote: Enumerating objects: 1534, done.\u001b[K\n",
            "remote: Counting objects: 100% (268/268), done.\u001b[K\n",
            "remote: Compressing objects: 100% (169/169), done.\u001b[K\n",
            "remote: Total 1534 (delta 170), reused 174 (delta 89), pack-reused 1266 (from 2)\u001b[K\n",
            "Receiving objects: 100% (1534/1534), 690.23 KiB | 15.69 MiB/s, done.\n",
            "Resolving deltas: 100% (1039/1039), done.\n",
            "Cloning into 'Reinformer'...\n",
            "remote: Enumerating objects: 51, done.\u001b[K\n",
            "remote: Counting objects: 100% (51/51), done.\u001b[K\n",
            "remote: Compressing objects: 100% (35/35), done.\u001b[K\n",
            "remote: Total 51 (delta 22), reused 38 (delta 13), pack-reused 0 (from 0)\u001b[K\n",
            "Receiving objects: 100% (51/51), 17.36 KiB | 2.48 MiB/s, done.\n",
            "Resolving deltas: 100% (22/22), done.\n"
          ]
        }
      ],
      "source": [
        "\n",
        "!git clone https://github.com/WhyAreYouJay/d4rl_benchmark_eval.git\n",
        "!git clone https://github.com/Dragon-Zhuang/Reinformer.git\n"
      ]
    },
    {
      "cell_type": "code",
      "execution_count": 2,
      "metadata": {
        "colab": {
          "base_uri": "https://localhost:8080/"
        },
        "id": "bX2qkP9lSYmM",
        "outputId": "11bc04ac-cb88-4b77-c5fd-52ce613c3dad"
      },
      "outputs": [
        {
          "output_type": "stream",
          "name": "stdout",
          "text": [
            "Collecting gymnasium[mujoco]\n",
            "  Downloading gymnasium-1.0.0-py3-none-any.whl.metadata (9.5 kB)\n",
            "Requirement already satisfied: numpy>=1.21.0 in /usr/local/lib/python3.10/dist-packages (from gymnasium[mujoco]) (1.26.4)\n",
            "Requirement already satisfied: cloudpickle>=1.2.0 in /usr/local/lib/python3.10/dist-packages (from gymnasium[mujoco]) (3.1.0)\n",
            "Requirement already satisfied: typing-extensions>=4.3.0 in /usr/local/lib/python3.10/dist-packages (from gymnasium[mujoco]) (4.12.2)\n",
            "Collecting farama-notifications>=0.0.1 (from gymnasium[mujoco])\n",
            "  Downloading Farama_Notifications-0.0.4-py3-none-any.whl.metadata (558 bytes)\n",
            "Collecting mujoco>=2.1.5 (from gymnasium[mujoco])\n",
            "  Downloading mujoco-3.2.6-cp310-cp310-manylinux_2_17_x86_64.manylinux2014_x86_64.whl.metadata (44 kB)\n",
            "\u001b[2K     \u001b[90m━━━━━━━━━━━━━━━━━━━━━━━━━━━━━━━━━━━━━━━━\u001b[0m \u001b[32m44.4/44.4 kB\u001b[0m \u001b[31m2.4 MB/s\u001b[0m eta \u001b[36m0:00:00\u001b[0m\n",
            "\u001b[?25hRequirement already satisfied: imageio>=2.14.1 in /usr/local/lib/python3.10/dist-packages (from gymnasium[mujoco]) (2.36.1)\n",
            "Requirement already satisfied: pillow>=8.3.2 in /usr/local/lib/python3.10/dist-packages (from imageio>=2.14.1->gymnasium[mujoco]) (11.1.0)\n",
            "Requirement already satisfied: absl-py in /usr/local/lib/python3.10/dist-packages (from mujoco>=2.1.5->gymnasium[mujoco]) (1.4.0)\n",
            "Requirement already satisfied: etils[epath] in /usr/local/lib/python3.10/dist-packages (from mujoco>=2.1.5->gymnasium[mujoco]) (1.11.0)\n",
            "Collecting glfw (from mujoco>=2.1.5->gymnasium[mujoco])\n",
            "  Downloading glfw-2.8.0-py2.py27.py3.py30.py31.py32.py33.py34.py35.py36.py37.py38.p39.p310.p311.p312.p313-none-manylinux_2_28_x86_64.whl.metadata (5.4 kB)\n",
            "Requirement already satisfied: pyopengl in /usr/local/lib/python3.10/dist-packages (from mujoco>=2.1.5->gymnasium[mujoco]) (3.1.7)\n",
            "Requirement already satisfied: fsspec in /usr/local/lib/python3.10/dist-packages (from etils[epath]->mujoco>=2.1.5->gymnasium[mujoco]) (2024.10.0)\n",
            "Requirement already satisfied: importlib_resources in /usr/local/lib/python3.10/dist-packages (from etils[epath]->mujoco>=2.1.5->gymnasium[mujoco]) (6.5.2)\n",
            "Requirement already satisfied: zipp in /usr/local/lib/python3.10/dist-packages (from etils[epath]->mujoco>=2.1.5->gymnasium[mujoco]) (3.21.0)\n",
            "Downloading Farama_Notifications-0.0.4-py3-none-any.whl (2.5 kB)\n",
            "Downloading mujoco-3.2.6-cp310-cp310-manylinux_2_17_x86_64.manylinux2014_x86_64.whl (6.4 MB)\n",
            "\u001b[2K   \u001b[90m━━━━━━━━━━━━━━━━━━━━━━━━━━━━━━━━━━━━━━━━\u001b[0m \u001b[32m6.4/6.4 MB\u001b[0m \u001b[31m47.9 MB/s\u001b[0m eta \u001b[36m0:00:00\u001b[0m\n",
            "\u001b[?25hDownloading gymnasium-1.0.0-py3-none-any.whl (958 kB)\n",
            "\u001b[2K   \u001b[90m━━━━━━━━━━━━━━━━━━━━━━━━━━━━━━━━━━━━━━━━\u001b[0m \u001b[32m958.1/958.1 kB\u001b[0m \u001b[31m40.7 MB/s\u001b[0m eta \u001b[36m0:00:00\u001b[0m\n",
            "\u001b[?25hDownloading glfw-2.8.0-py2.py27.py3.py30.py31.py32.py33.py34.py35.py36.py37.py38.p39.p310.p311.p312.p313-none-manylinux_2_28_x86_64.whl (243 kB)\n",
            "\u001b[2K   \u001b[90m━━━━━━━━━━━━━━━━━━━━━━━━━━━━━━━━━━━━━━━━\u001b[0m \u001b[32m243.4/243.4 kB\u001b[0m \u001b[31m20.2 MB/s\u001b[0m eta \u001b[36m0:00:00\u001b[0m\n",
            "\u001b[?25hInstalling collected packages: glfw, farama-notifications, gymnasium, mujoco\n",
            "Successfully installed farama-notifications-0.0.4 glfw-2.8.0 gymnasium-1.0.0 mujoco-3.2.6\n"
          ]
        }
      ],
      "source": [
        "!pip install gymnasium[mujoco]"
      ]
    },
    {
      "cell_type": "code",
      "execution_count": 3,
      "metadata": {
        "colab": {
          "base_uri": "https://localhost:8080/"
        },
        "id": "oaDO_cLwH4iW",
        "outputId": "b88ac1bd-0b83-4bd9-c147-b2b66dc76f34"
      },
      "outputs": [
        {
          "output_type": "stream",
          "name": "stdout",
          "text": [
            "Collecting triton\n",
            "  Downloading triton-3.1.0-cp310-cp310-manylinux_2_17_x86_64.manylinux2014_x86_64.whl.metadata (1.3 kB)\n",
            "Requirement already satisfied: filelock in /usr/local/lib/python3.10/dist-packages (from triton) (3.16.1)\n",
            "Downloading triton-3.1.0-cp310-cp310-manylinux_2_17_x86_64.manylinux2014_x86_64.whl (209.5 MB)\n",
            "\u001b[2K   \u001b[90m━━━━━━━━━━━━━━━━━━━━━━━━━━━━━━━━━━━━━━━━\u001b[0m \u001b[32m209.5/209.5 MB\u001b[0m \u001b[31m5.6 MB/s\u001b[0m eta \u001b[36m0:00:00\u001b[0m\n",
            "\u001b[?25hInstalling collected packages: triton\n",
            "Successfully installed triton-3.1.0\n"
          ]
        }
      ],
      "source": [
        "!pip install triton"
      ]
    },
    {
      "cell_type": "code",
      "execution_count": 4,
      "metadata": {
        "colab": {
          "base_uri": "https://localhost:8080/"
        },
        "id": "oHnrojJ0Sb2F",
        "outputId": "a12dbda3-c568-4b41-f964-ee050052af6f"
      },
      "outputs": [
        {
          "output_type": "stream",
          "name": "stdout",
          "text": [
            "Requirement already satisfied: wandb in /usr/local/lib/python3.10/dist-packages (0.19.1)\n",
            "Requirement already satisfied: click!=8.0.0,>=7.1 in /usr/local/lib/python3.10/dist-packages (from wandb) (8.1.8)\n",
            "Requirement already satisfied: docker-pycreds>=0.4.0 in /usr/local/lib/python3.10/dist-packages (from wandb) (0.4.0)\n",
            "Requirement already satisfied: gitpython!=3.1.29,>=1.0.0 in /usr/local/lib/python3.10/dist-packages (from wandb) (3.1.44)\n",
            "Requirement already satisfied: platformdirs in /usr/local/lib/python3.10/dist-packages (from wandb) (4.3.6)\n",
            "Requirement already satisfied: protobuf!=4.21.0,!=5.28.0,<6,>=3.19.0 in /usr/local/lib/python3.10/dist-packages (from wandb) (4.25.5)\n",
            "Requirement already satisfied: psutil>=5.0.0 in /usr/local/lib/python3.10/dist-packages (from wandb) (5.9.5)\n",
            "Requirement already satisfied: pydantic<3,>=2.6 in /usr/local/lib/python3.10/dist-packages (from wandb) (2.10.4)\n",
            "Requirement already satisfied: pyyaml in /usr/local/lib/python3.10/dist-packages (from wandb) (6.0.2)\n",
            "Requirement already satisfied: requests<3,>=2.0.0 in /usr/local/lib/python3.10/dist-packages (from wandb) (2.32.3)\n",
            "Requirement already satisfied: sentry-sdk>=2.0.0 in /usr/local/lib/python3.10/dist-packages (from wandb) (2.19.2)\n",
            "Requirement already satisfied: setproctitle in /usr/local/lib/python3.10/dist-packages (from wandb) (1.3.4)\n",
            "Requirement already satisfied: setuptools in /usr/local/lib/python3.10/dist-packages (from wandb) (75.1.0)\n",
            "Requirement already satisfied: typing-extensions<5,>=4.4 in /usr/local/lib/python3.10/dist-packages (from wandb) (4.12.2)\n",
            "Requirement already satisfied: six>=1.4.0 in /usr/local/lib/python3.10/dist-packages (from docker-pycreds>=0.4.0->wandb) (1.17.0)\n",
            "Requirement already satisfied: gitdb<5,>=4.0.1 in /usr/local/lib/python3.10/dist-packages (from gitpython!=3.1.29,>=1.0.0->wandb) (4.0.12)\n",
            "Requirement already satisfied: annotated-types>=0.6.0 in /usr/local/lib/python3.10/dist-packages (from pydantic<3,>=2.6->wandb) (0.7.0)\n",
            "Requirement already satisfied: pydantic-core==2.27.2 in /usr/local/lib/python3.10/dist-packages (from pydantic<3,>=2.6->wandb) (2.27.2)\n",
            "Requirement already satisfied: charset-normalizer<4,>=2 in /usr/local/lib/python3.10/dist-packages (from requests<3,>=2.0.0->wandb) (3.4.1)\n",
            "Requirement already satisfied: idna<4,>=2.5 in /usr/local/lib/python3.10/dist-packages (from requests<3,>=2.0.0->wandb) (3.10)\n",
            "Requirement already satisfied: urllib3<3,>=1.21.1 in /usr/local/lib/python3.10/dist-packages (from requests<3,>=2.0.0->wandb) (2.3.0)\n",
            "Requirement already satisfied: certifi>=2017.4.17 in /usr/local/lib/python3.10/dist-packages (from requests<3,>=2.0.0->wandb) (2024.12.14)\n",
            "Requirement already satisfied: smmap<6,>=3.0.1 in /usr/local/lib/python3.10/dist-packages (from gitdb<5,>=4.0.1->gitpython!=3.1.29,>=1.0.0->wandb) (5.0.2)\n"
          ]
        }
      ],
      "source": [
        "!pip install wandb"
      ]
    },
    {
      "cell_type": "markdown",
      "metadata": {
        "id": "84MexPX4oxdo"
      },
      "source": [
        "PUT YOUR API KEY AFTER LOGIN"
      ]
    },
    {
      "cell_type": "code",
      "execution_count": 5,
      "metadata": {
        "colab": {
          "base_uri": "https://localhost:8080/"
        },
        "id": "tGCn9-O7Ws1K",
        "outputId": "bc1f8c12-ce36-4946-c588-0e8e1475660c"
      },
      "outputs": [
        {
          "output_type": "stream",
          "name": "stdout",
          "text": [
            "\u001b[34m\u001b[1mwandb\u001b[0m: Appending key for api.wandb.ai to your netrc file: /root/.netrc\n"
          ]
        }
      ],
      "source": [
        "!wandb login 1e44bd6405911552e18312c824367f858755a47d\n",
        "\n"
      ]
    },
    {
      "cell_type": "markdown",
      "metadata": {
        "id": "RH1rX9_4oqVh"
      },
      "source": [
        "CHECK IF NVIDIA GPU WORKING\n"
      ]
    },
    {
      "cell_type": "code",
      "execution_count": 6,
      "metadata": {
        "colab": {
          "base_uri": "https://localhost:8080/"
        },
        "id": "I699NUMcYSsN",
        "outputId": "369e8827-6edd-44f7-cfba-96a3b769f832"
      },
      "outputs": [
        {
          "output_type": "stream",
          "name": "stdout",
          "text": [
            "Fri Jan 10 15:29:16 2025       \n",
            "+---------------------------------------------------------------------------------------+\n",
            "| NVIDIA-SMI 535.104.05             Driver Version: 535.104.05   CUDA Version: 12.2     |\n",
            "|-----------------------------------------+----------------------+----------------------+\n",
            "| GPU  Name                 Persistence-M | Bus-Id        Disp.A | Volatile Uncorr. ECC |\n",
            "| Fan  Temp   Perf          Pwr:Usage/Cap |         Memory-Usage | GPU-Util  Compute M. |\n",
            "|                                         |                      |               MIG M. |\n",
            "|=========================================+======================+======================|\n",
            "|   0  Tesla T4                       Off | 00000000:00:04.0 Off |                    0 |\n",
            "| N/A   39C    P8               9W /  70W |      0MiB / 15360MiB |      0%      Default |\n",
            "|                                         |                      |                  N/A |\n",
            "+-----------------------------------------+----------------------+----------------------+\n",
            "                                                                                         \n",
            "+---------------------------------------------------------------------------------------+\n",
            "| Processes:                                                                            |\n",
            "|  GPU   GI   CI        PID   Type   Process name                            GPU Memory |\n",
            "|        ID   ID                                                             Usage      |\n",
            "|=======================================================================================|\n",
            "|  No running processes found                                                           |\n",
            "+---------------------------------------------------------------------------------------+\n"
          ]
        }
      ],
      "source": [
        "!nvidia-smi"
      ]
    },
    {
      "cell_type": "markdown",
      "metadata": {
        "id": "AY0cUffaq5LF"
      },
      "source": [
        "PULL TO GET NEW VERSION"
      ]
    },
    {
      "cell_type": "markdown",
      "metadata": {
        "id": "-QRVKz9TovIG"
      },
      "source": [
        "WALKER2D VERSION (TEST HALFCH MEDEXP ON THIS)"
      ]
    },
    {
      "cell_type": "code",
      "execution_count": 7,
      "metadata": {
        "colab": {
          "base_uri": "https://localhost:8080/"
        },
        "id": "yTMToRZ4Lm2T",
        "outputId": "59473ae0-2756-4e7d-b9d9-ff9d83d6b00e"
      },
      "outputs": [
        {
          "output_type": "stream",
          "name": "stdout",
          "text": [
            "Already up to date.\n"
          ]
        }
      ],
      "source": [
        "!git -C d4rl_benchmark_eval/ pull"
      ]
    },
    {
      "cell_type": "markdown",
      "source": [
        "reverted"
      ],
      "metadata": {
        "id": "JGlaFjbyu-80"
      }
    },
    {
      "cell_type": "code",
      "execution_count": 8,
      "metadata": {
        "colab": {
          "base_uri": "https://localhost:8080/"
        },
        "id": "QH5a1yGyPzet",
        "outputId": "1af1cf54-5921-415f-d4e4-bbbb0037e3ea"
      },
      "outputs": [
        {
          "output_type": "stream",
          "name": "stdout",
          "text": [
            "\u001b[34m\u001b[1mwandb\u001b[0m: Using wandb-core as the SDK backend.  Please refer to https://wandb.me/wandb-core for more information.\n",
            "\u001b[34m\u001b[1mwandb\u001b[0m: Currently logged in as: \u001b[33mrasmus-alex-jensen\u001b[0m (\u001b[33mmingru-reinformer\u001b[0m). Use \u001b[1m`wandb login --relogin`\u001b[0m to force relogin\n",
            "\u001b[34m\u001b[1mwandb\u001b[0m: Tracking run with wandb version 0.19.1\n",
            "\u001b[34m\u001b[1mwandb\u001b[0m: Run data is saved locally in \u001b[35m\u001b[1m/content/wandb/run-20250110_152925-2j9dle65\u001b[0m\n",
            "\u001b[34m\u001b[1mwandb\u001b[0m: Run \u001b[1m`wandb offline`\u001b[0m to turn off syncing.\n",
            "\u001b[34m\u001b[1mwandb\u001b[0m: Syncing run \u001b[33mhopper-medium-5-128-0.0001\u001b[0m\n",
            "\u001b[34m\u001b[1mwandb\u001b[0m: ⭐️ View project at \u001b[34m\u001b[4mhttps://wandb.ai/mingru-reinformer/Reinformer\u001b[0m\n",
            "\u001b[34m\u001b[1mwandb\u001b[0m: 🚀 View run at \u001b[34m\u001b[4mhttps://wandb.ai/mingru-reinformer/Reinformer/runs/2j9dle65\u001b[0m\n",
            "Downloading dataset: http://rail.eecs.berkeley.edu/datasets/offline_rl/gym_mujoco_v2/hopper_medium-v2.hdf5 to deep_learning_rl_sm\\benchmarks\\data\\hopper_medium-v2.hdf5\n",
            "Iteration 0, time: 0.00020813941955566406\n",
            "Iteration 50, time: 3.297647714614868\n",
            "Iteration 100, time: 4.394687175750732\n",
            "Iteration 150, time: 5.486093044281006\n",
            "Iteration 200, time: 6.576618432998657\n",
            "Iteration 250, time: 7.773597002029419\n",
            "Iteration 300, time: 9.790661334991455\n",
            "Iteration 350, time: 11.212123394012451\n",
            "Iteration 400, time: 12.313278913497925\n",
            "Iteration 450, time: 13.422584772109985\n",
            "Iteration 500, time: 14.523523330688477\n",
            "Iteration 550, time: 15.767759799957275\n",
            "Iteration 600, time: 16.856268405914307\n",
            "Iteration 650, time: 17.950400352478027\n",
            "Iteration 700, time: 19.068114042282104\n",
            "Iteration 750, time: 20.165327310562134\n",
            "Iteration 800, time: 21.521918058395386\n",
            "Iteration 850, time: 23.05157732963562\n",
            "Iteration 900, time: 24.430452823638916\n",
            "Iteration 950, time: 25.576321601867676\n",
            "Iteration 1000, time: 26.729058742523193\n",
            "Iteration 1050, time: 27.840262174606323\n",
            "Iteration 1100, time: 28.93765139579773\n",
            "Iteration 1150, time: 30.06416344642639\n",
            "Iteration 1200, time: 31.188097953796387\n",
            "Iteration 1250, time: 32.34467673301697\n",
            "Iteration 1300, time: 33.479084968566895\n",
            "Iteration 1350, time: 34.9286105632782\n",
            "Iteration 1400, time: 36.51693654060364\n",
            "Iteration 1450, time: 37.72798490524292\n",
            "Iteration 1500, time: 38.838643074035645\n",
            "Iteration 1550, time: 39.94075608253479\n",
            "Iteration 1600, time: 41.05022478103638\n",
            "Iteration 1650, time: 42.152230978012085\n",
            "Iteration 1700, time: 43.26124572753906\n",
            "Iteration 1750, time: 44.34876751899719\n",
            "Iteration 1800, time: 45.43463754653931\n",
            "Iteration 1850, time: 46.647087812423706\n",
            "Iteration 1900, time: 48.071614503860474\n",
            "Iteration 1950, time: 49.59259223937988\n",
            "Iteration 2000, time: 50.73934197425842\n",
            "Iteration 2050, time: 51.82893490791321\n",
            "Iteration 2100, time: 52.916645765304565\n",
            "Iteration 2150, time: 54.01482343673706\n",
            "Iteration 2200, time: 55.10773515701294\n",
            "Iteration 2250, time: 56.1892032623291\n",
            "Iteration 2300, time: 57.3061625957489\n",
            "Iteration 2350, time: 58.392730712890625\n",
            "Iteration 2400, time: 59.53050780296326\n",
            "Iteration 2450, time: 60.948957443237305\n",
            "Iteration 2500, time: 62.51083731651306\n",
            "Iteration 2550, time: 63.720158100128174\n",
            "Iteration 2600, time: 64.811439037323\n",
            "Iteration 2650, time: 65.91396737098694\n",
            "Iteration 2700, time: 67.03081512451172\n",
            "Iteration 2750, time: 68.11935925483704\n",
            "Iteration 2800, time: 69.21651268005371\n",
            "Iteration 2850, time: 70.38298153877258\n",
            "Iteration 2900, time: 71.67458748817444\n",
            "Iteration 2950, time: 72.81991744041443\n",
            "Iteration 3000, time: 74.33735418319702\n",
            "Iteration 3050, time: 75.90596604347229\n",
            "Iteration 3100, time: 77.0357973575592\n",
            "Iteration 3150, time: 78.28510880470276\n",
            "Iteration 3200, time: 79.37078595161438\n",
            "Iteration 3250, time: 80.45248889923096\n",
            "Iteration 3300, time: 81.56186485290527\n",
            "Iteration 3350, time: 82.65840792655945\n",
            "Iteration 3400, time: 83.7480046749115\n",
            "Iteration 3450, time: 84.856605052948\n",
            "Iteration 3500, time: 85.94440865516663\n",
            "Iteration 3550, time: 87.4527735710144\n",
            "Iteration 3600, time: 89.0117769241333\n",
            "Iteration 3650, time: 90.14181852340698\n",
            "Iteration 3700, time: 91.25194144248962\n",
            "Iteration 3750, time: 92.35549688339233\n",
            "Iteration 3800, time: 93.4453558921814\n",
            "Iteration 3850, time: 94.54654026031494\n",
            "Iteration 3900, time: 95.63629078865051\n",
            "Iteration 3950, time: 96.73884057998657\n",
            "Iteration 4000, time: 97.8283793926239\n",
            "Iteration 4050, time: 98.9431083202362\n",
            "Iteration 4100, time: 100.4161286354065\n",
            "Iteration 4150, time: 101.9580864906311\n",
            "Iteration 4200, time: 103.14966249465942\n",
            "Iteration 4250, time: 104.27280807495117\n",
            "Iteration 4300, time: 105.37403750419617\n",
            "Iteration 4350, time: 106.4726402759552\n",
            "Iteration 4400, time: 107.57651114463806\n",
            "Iteration 4450, time: 108.80723261833191\n",
            "Iteration 4500, time: 109.91958856582642\n",
            "Iteration 4550, time: 111.0317804813385\n",
            "Iteration 4600, time: 112.15038633346558\n",
            "Iteration 4650, time: 113.6338882446289\n",
            "Iteration 4700, time: 115.22773122787476\n",
            "Iteration 4750, time: 116.34778070449829\n",
            "Iteration 4800, time: 117.48850798606873\n",
            "Iteration 4850, time: 118.59070253372192\n",
            "Iteration 4900, time: 119.69020438194275\n",
            "Iteration 4950, time: 120.79539799690247\n",
            "================================================================================\n",
            "Epoch 1\n",
            "time/training: 121.89341688156128\n",
            "time/total: 121.89351439476013\n",
            "training/train_loss_mean: 3.1811022751693656\n",
            "training/train_loss_std: 0.5366426823281149\n",
            "Episode 0 returns : 1853.0054477833262\n",
            "Episode 1 returns : 1624.9729101337687\n",
            "Episode 2 returns : 1655.6520390302394\n",
            "Episode 3 returns : 1853.424564286441\n",
            "Episode 4 returns : 1846.4606729532406\n",
            "Episode 5 returns : 1820.1046645215026\n",
            "Episode 6 returns : 1864.147639503898\n",
            "Episode 7 returns : 1781.5292815144298\n",
            "Episode 8 returns : 1602.410540344963\n",
            "Episode 9 returns : 1481.7801141745329\n",
            "============================================================\n",
            "Normalized Score for hopper_medium-v2 : 54.035397822407084\n",
            "============================================================\n",
            "Iteration 0, time: 0.00013947486877441406\n",
            "Iteration 50, time: 1.139972448348999\n",
            "Iteration 100, time: 2.2278149127960205\n",
            "Iteration 150, time: 3.309629201889038\n",
            "Iteration 200, time: 4.393601417541504\n",
            "Iteration 250, time: 5.499298334121704\n",
            "Iteration 300, time: 6.8254616260528564\n",
            "Iteration 350, time: 8.31071925163269\n",
            "Iteration 400, time: 9.580604553222656\n",
            "Iteration 450, time: 10.65659236907959\n",
            "Iteration 500, time: 11.757534980773926\n",
            "Iteration 550, time: 12.834527969360352\n",
            "Iteration 600, time: 13.919468402862549\n",
            "Iteration 650, time: 15.006265878677368\n",
            "Iteration 700, time: 16.084822177886963\n",
            "Iteration 750, time: 17.29882025718689\n",
            "Iteration 800, time: 18.372074604034424\n",
            "Iteration 850, time: 19.699092388153076\n",
            "Iteration 900, time: 21.140769243240356\n",
            "Iteration 950, time: 22.479116439819336\n",
            "Iteration 1000, time: 23.579413652420044\n",
            "Iteration 1050, time: 24.6790554523468\n",
            "Iteration 1100, time: 25.771464824676514\n",
            "Iteration 1150, time: 26.872664213180542\n",
            "Iteration 1200, time: 27.959344625473022\n",
            "Iteration 1250, time: 29.052581787109375\n",
            "Iteration 1300, time: 30.141075611114502\n",
            "Iteration 1350, time: 31.2261745929718\n",
            "Iteration 1400, time: 32.47530388832092\n",
            "Iteration 1450, time: 33.9242947101593\n",
            "Iteration 1500, time: 35.3986976146698\n",
            "Iteration 1550, time: 36.486111879348755\n",
            "Iteration 1600, time: 37.571231842041016\n",
            "Iteration 1650, time: 38.67126774787903\n",
            "Iteration 1700, time: 39.78485608100891\n",
            "Iteration 1750, time: 40.864476680755615\n",
            "Iteration 1800, time: 41.94067645072937\n",
            "Iteration 1850, time: 43.01499104499817\n",
            "Iteration 1900, time: 44.08280062675476\n",
            "Iteration 1950, time: 45.269763469696045\n",
            "Iteration 2000, time: 46.68613243103027\n",
            "Iteration 2050, time: 48.30270028114319\n",
            "Iteration 2100, time: 49.39161944389343\n",
            "Iteration 2150, time: 50.472838163375854\n",
            "Iteration 2200, time: 51.55356478691101\n",
            "Iteration 2250, time: 52.648902893066406\n",
            "Iteration 2300, time: 53.72539043426514\n",
            "Iteration 2350, time: 54.80427813529968\n",
            "Iteration 2400, time: 55.897709608078\n",
            "Iteration 2450, time: 56.991801023483276\n",
            "Iteration 2500, time: 58.1361141204834\n",
            "Iteration 2550, time: 59.55250930786133\n",
            "Iteration 2600, time: 61.07582378387451\n",
            "Iteration 2650, time: 62.168904304504395\n",
            "Iteration 2700, time: 63.25198173522949\n",
            "Iteration 2750, time: 64.35278224945068\n",
            "Iteration 2800, time: 65.46705317497253\n",
            "Iteration 2850, time: 66.55713820457458\n",
            "Iteration 2900, time: 67.64599919319153\n",
            "Iteration 2950, time: 68.7618510723114\n",
            "Iteration 3000, time: 69.85551381111145\n",
            "Iteration 3050, time: 70.94123601913452\n",
            "Iteration 3100, time: 72.38872718811035\n",
            "Iteration 3150, time: 73.95772910118103\n",
            "Iteration 3200, time: 75.10129714012146\n",
            "Iteration 3250, time: 76.18748593330383\n",
            "Iteration 3300, time: 77.27880024909973\n",
            "Iteration 3350, time: 78.50800013542175\n",
            "Iteration 3400, time: 79.61121249198914\n",
            "Iteration 3450, time: 80.6934187412262\n",
            "Iteration 3500, time: 81.77591180801392\n",
            "Iteration 3550, time: 82.86196327209473\n",
            "Iteration 3600, time: 83.95511507987976\n",
            "Iteration 3650, time: 85.37729549407959\n",
            "Iteration 3700, time: 86.90834736824036\n",
            "Iteration 3750, time: 88.06072044372559\n",
            "Iteration 3800, time: 89.16121768951416\n",
            "Iteration 3850, time: 90.25934505462646\n",
            "Iteration 3900, time: 91.34601187705994\n",
            "Iteration 3950, time: 92.44029903411865\n",
            "Iteration 4000, time: 93.5357620716095\n",
            "Iteration 4050, time: 94.62309384346008\n",
            "Iteration 4100, time: 95.74847626686096\n",
            "Iteration 4150, time: 96.83893823623657\n",
            "Iteration 4200, time: 98.25970029830933\n",
            "Iteration 4250, time: 99.80932188034058\n",
            "Iteration 4300, time: 101.00208187103271\n",
            "Iteration 4350, time: 102.08543729782104\n",
            "Iteration 4400, time: 103.18062472343445\n",
            "Iteration 4450, time: 104.29576206207275\n",
            "Iteration 4500, time: 105.39149451255798\n",
            "Iteration 4550, time: 106.49334812164307\n",
            "Iteration 4600, time: 107.58450222015381\n",
            "Iteration 4650, time: 108.82510423660278\n",
            "Iteration 4700, time: 109.91875743865967\n",
            "Iteration 4750, time: 111.32550716400146\n",
            "Iteration 4800, time: 112.93773937225342\n",
            "Iteration 4850, time: 114.14250755310059\n",
            "Iteration 4900, time: 115.26180005073547\n",
            "Iteration 4950, time: 116.38658547401428\n",
            "================================================================================\n",
            "Epoch 2\n",
            "time/training: 117.48681926727295\n",
            "time/total: 289.5385308265686\n",
            "training/train_loss_mean: 2.777389939421821\n",
            "training/train_loss_std: 0.01328076573263797\n",
            "Episode 0 returns : 1241.944673519822\n",
            "Episode 1 returns : 1245.9073838322063\n",
            "Episode 2 returns : 1255.3893463152426\n",
            "Episode 3 returns : 1446.909420706754\n",
            "Episode 4 returns : 1243.8589869081218\n",
            "Episode 5 returns : 1267.147639920233\n",
            "Episode 6 returns : 1356.4801216658639\n",
            "Episode 7 returns : 1371.1384715155807\n",
            "Episode 8 returns : 1267.891708127026\n",
            "Episode 9 returns : 1241.3929655075344\n",
            "============================================================\n",
            "Normalized Score for hopper_medium-v2 : 40.37637679098477\n",
            "============================================================\n",
            "Iteration 0, time: 0.00014090538024902344\n",
            "Iteration 50, time: 1.1503145694732666\n",
            "Iteration 100, time: 2.2423996925354004\n",
            "Iteration 150, time: 3.349263906478882\n",
            "Iteration 200, time: 4.445572853088379\n",
            "Iteration 250, time: 5.52358865737915\n",
            "Iteration 300, time: 6.6107213497161865\n",
            "Iteration 350, time: 7.69853663444519\n",
            "Iteration 400, time: 8.800591945648193\n",
            "Iteration 450, time: 10.12582516670227\n",
            "Iteration 500, time: 11.598040103912354\n",
            "Iteration 550, time: 12.959626197814941\n",
            "Iteration 600, time: 14.06356692314148\n",
            "Iteration 650, time: 15.154387474060059\n",
            "Iteration 700, time: 16.283759355545044\n",
            "Iteration 750, time: 17.394607305526733\n",
            "Iteration 800, time: 18.494149208068848\n",
            "Iteration 850, time: 19.609532356262207\n",
            "Iteration 900, time: 20.70376968383789\n",
            "Iteration 950, time: 21.924755334854126\n",
            "Traceback (most recent call last):\n",
            "  File \"/content/d4rl_benchmark_eval/single_full_seed_run.py\", line 197, in <module>\n",
            "    outputs = trainer.train_iteration_benchmark(num_steps=args['num_steps_per_iter'], iter_num=it + 1,\n",
            "  File \"/content/d4rl_benchmark_eval/deep_learning_rl_sm/trainer/trainer.py\", line 348, in train_iteration_benchmark\n",
            "    train_loss = self.train_step_benchmark((i+1) % self.acc_grad == 0)\n",
            "KeyboardInterrupt\n",
            "\u001b[1;34mwandb\u001b[0m: 🚀 View run \u001b[33mhopper-medium-5-128-0.0001\u001b[0m at: \u001b[34mhttps://wandb.ai/mingru-reinformer/Reinformer/runs/2j9dle65\u001b[0m\n",
            "\u001b[1;34mwandb\u001b[0m: Find logs at: \u001b[1;35mwandb/run-20250110_152925-2j9dle65/logs\u001b[0m\n"
          ]
        }
      ],
      "source": [
        "!python d4rl_benchmark_eval/single_full_seed_run.py --env hopper --dataset medium --embed_dim 256 --batch_size 128 --K 5 --lr 0.0001 --n_layers 3 --wd 0.0001 --tau 0.999 --num_steps_per_iter 5000 --mult 4.0 --warmup_steps 10000 --expansion_factor 1.0 --stacked True"
      ]
    }
  ],
  "metadata": {
    "accelerator": "GPU",
    "colab": {
      "gpuType": "T4",
      "provenance": []
    },
    "kernelspec": {
      "display_name": "Python 3",
      "name": "python3"
    },
    "language_info": {
      "name": "python"
    }
  },
  "nbformat": 4,
  "nbformat_minor": 0
}